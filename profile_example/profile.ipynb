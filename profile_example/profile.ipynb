{
 "cells": [
  {
   "cell_type": "markdown",
   "id": "14ee4fee-8a35-4479-b781-eaed77638b9d",
   "metadata": {},
   "source": [
    "# An introduction to profiling in python\n",
    "\n",
    "Let's take a look at some benchmarking and profiling tools.\n",
    "\n",
    "## The time module\n",
    "\n",
    "Starting with doing it yourself using the time module.\n",
    "\n",
    "`time.perf_counter_ns()` is the maximum resolution time function\n",
    "returning values in nano-seconds (because floating point seconds\n",
    "will sometimes not have the resolution to represent short functions).\n",
    "\n",
    "We'll time a simple MC calculation of pi.\n"
   ]
  },
  {
   "cell_type": "code",
   "execution_count": 1,
   "id": "e75e3965-ae3b-400c-9944-1398d687f73c",
   "metadata": {},
   "outputs": [],
   "source": [
    "import time\n",
    "import python_pi"
   ]
  },
  {
   "cell_type": "code",
   "execution_count": 2,
   "id": "e922b0c3-6507-4e15-aa40-f0a9d26057db",
   "metadata": {},
   "outputs": [
    {
     "name": "stdout",
     "output_type": "stream",
     "text": [
      "      1000 samples pi is 3.123123 in 0.000347 s (346.583000 ns/iteration)\n",
      "     10000 samples pi is 3.139514 in 0.003379 s (337.856100 ns/iteration)\n",
      "    100000 samples pi is 3.143031 in 0.039439 s (394.393710 ns/iteration)\n",
      "   1000000 samples pi is 3.140991 in 0.345857 s (345.856762 ns/iteration)\n",
      "  10000000 samples pi is 3.141678 in 3.344634 s (334.463371 ns/iteration)\n"
     ]
    }
   ],
   "source": [
    "for n in [1000, 10000, 100000, 1000000, 10000000]:\n",
    "    start = time.perf_counter_ns()\n",
    "    pi = python_pi.pi_python(n)\n",
    "    end = time.perf_counter_ns()\n",
    "    t = end - start\n",
    "    print(f\"{n:10} samples pi is {pi:7f} in {t/1E9:7f} s ({t/n:7f} ns/iteration)\")"
   ]
  },
  {
   "cell_type": "markdown",
   "id": "f3ed3146-cce2-4ca6-b3ab-74b8a96d8b0b",
   "metadata": {},
   "source": [
    "## Timeit\n",
    "\n",
    "We also have `timeit`, a python module designed to give us this kind of information.\n",
    "\n",
    "It's built into ipython so you can use the 'magic' (%) syntax or you can import it as a module\n",
    "or run it from the command line.\n",
    "\n",
    "Remember that\n",
    "1 s = 1000 ms = 1,000,000 $\\mu$s = 1,000,000,000 ns"
   ]
  },
  {
   "cell_type": "code",
   "execution_count": 3,
   "id": "bec1265d-4f3d-4699-88d2-c94e7069536e",
   "metadata": {},
   "outputs": [
    {
     "name": "stdout",
     "output_type": "stream",
     "text": [
      "327 µs ± 2 µs per loop (mean ± std. dev. of 7 runs, 1,000 loops each)\n"
     ]
    }
   ],
   "source": [
    "%timeit python_pi.pi_python(1000)\n",
    "# Timing stats for the line"
   ]
  },
  {
   "cell_type": "code",
   "execution_count": 4,
   "id": "4f36ae27-fcbd-4fcf-8f4d-eee6d09e7fc0",
   "metadata": {},
   "outputs": [
    {
     "name": "stdout",
     "output_type": "stream",
     "text": [
      "333 µs ± 4.32 µs per loop (mean ± std. dev. of 7 runs, 1,000 loops each)\n"
     ]
    }
   ],
   "source": [
    "%%timeit\n",
    "\n",
    "python_pi.pi_python(1000)\n",
    "# Timing stats for the cell"
   ]
  },
  {
   "cell_type": "code",
   "execution_count": 5,
   "id": "78f14505-a813-4658-86fa-9cd2a3b8583a",
   "metadata": {},
   "outputs": [
    {
     "name": "stdout",
     "output_type": "stream",
     "text": [
      "1000 samples took 334.4668120000001 microseconds\n"
     ]
    }
   ],
   "source": [
    "import timeit\n",
    "\n",
    "t = timeit.Timer('python_pi.pi_python(1000)',setup=\"from __main__ import python_pi\")\n",
    "tottime = t.timeit(number=10000)\n",
    "time_per_loop_ms = tottime/10000 * 1.0E6\n",
    "print(f\"1000 samples took {time_per_loop_ms} microseconds\")"
   ]
  },
  {
   "cell_type": "markdown",
   "id": "7da66f47-4132-468e-b6a0-5ed191fd5b0f",
   "metadata": {},
   "source": [
    "## cProfile\n",
    "\n",
    "That all tells us how long something takes. Very useful if you are trying to make something faster (are you done yet) but what about finding out where to spend effort? For this we need a proper profiler.\n",
    "\n",
    "In general profiling comes in two types **deterministic**, where function calls are instrumented and the time spent in each function computed, and **statistical** where the processor reports what it's doing every so often and this is converted into the amount of time spent on each line of code. Being an interpreted language in python we can use a deterministic approach. The same is true of the profiler built into the Matlab environment.\n",
    "\n",
    "So we'll run our MC code under a profiler. Again we will use the ipython magic but you can do this on the command line too"
   ]
  },
  {
   "cell_type": "code",
   "execution_count": 6,
   "id": "b15f3d8a-8f8a-454f-ab00-2acc039f6c62",
   "metadata": {},
   "outputs": [
    {
     "data": {
      "text/plain": [
       "         20008 function calls in 0.007 seconds\n",
       "\n",
       "   Ordered by: cumulative time\n",
       "\n",
       "   ncalls  tottime  percall  cumtime  percall filename:lineno(function)\n",
       "        1    0.000    0.000    0.007    0.007 {built-in method builtins.exec}\n",
       "        1    0.000    0.000    0.007    0.007 <string>:1(<module>)\n",
       "        1    0.005    0.005    0.007    0.007 python_pi.py:5(pi_python)\n",
       "    20000    0.002    0.000    0.002    0.000 {method 'random' of '_random.Random' objects}\n",
       "        1    0.000    0.000    0.000    0.000 random.py:126(seed)\n",
       "        1    0.000    0.000    0.000    0.000 {function Random.seed at 0x10a7a08b0}\n",
       "        2    0.000    0.000    0.000    0.000 {built-in method builtins.isinstance}\n",
       "        1    0.000    0.000    0.000    0.000 {method 'disable' of '_lsprof.Profiler' objects}"
      ]
     },
     "metadata": {},
     "output_type": "display_data"
    },
    {
     "name": "stdout",
     "output_type": "stream",
     "text": [
      " "
     ]
    }
   ],
   "source": [
    "%%prun -s cumulative\n",
    "python_pi.pi_python(10000)"
   ]
  },
  {
   "cell_type": "markdown",
   "id": "4ce949ab-e64e-4ec7-be2b-2273faea95f5",
   "metadata": {},
   "source": [
    "## Line_profiler\n",
    "\n",
    "The profiler helps find which function to look at, but how do we find out which line is slow.\n",
    "This is where a line profiler helps. In python this is also deterministic but you need to install a package. Run\n",
    "`conda install line_profiler` in your environment to do this.\n",
    "\n",
    "You also need to specify which function(s) to profile. So do this after you have found interesting functions."
   ]
  },
  {
   "cell_type": "code",
   "execution_count": 7,
   "id": "c25c0bc4-f4f5-406a-83a1-874e81596d08",
   "metadata": {},
   "outputs": [],
   "source": [
    "%load_ext line_profiler"
   ]
  },
  {
   "cell_type": "code",
   "execution_count": 8,
   "id": "c33b5e5a-1783-442c-a910-26163a398391",
   "metadata": {},
   "outputs": [
    {
     "data": {
      "text/plain": [
       "Timer unit: 1e-06 s\n",
       "\n",
       "Total time: 0.02846 s\n",
       "File: /Users/andreww/Code/CompEarthSci/profile_example/python_pi.py\n",
       "Function: pi_python at line 5\n",
       "\n",
       "Line #      Hits         Time  Per Hit   % Time  Line Contents\n",
       "==============================================================\n",
       "     5                                           def pi_python(num_samps, prn_seed=101):\n",
       "     6                                               \"\"\"\n",
       "     7                                               Monte Carlo method of calculating pi\n",
       "     8                                             \n",
       "     9                                               num_samps is the number of samples in the unit square\n",
       "    10                                               to probe.\n",
       "    11                                             \n",
       "    12                                               \"\"\"\n",
       "    13         1         30.0     30.0      0.1      random.seed(prn_seed)\n",
       "    14         1          1.0      1.0      0.0      pi = 0\n",
       "    15         1          0.0      0.0      0.0      n = 0\n",
       "    16     10001       3921.0      0.4     13.8      for n in range(num_samps):\n",
       "    17     10000       4829.0      0.5     17.0          x = random.random() \n",
       "    18     10000       4566.0      0.5     16.0          y = random.random()\n",
       "    19     10000       6520.0      0.7     22.9          r = x**2 + y**2\n",
       "    20     10000       4972.0      0.5     17.5          if r <= 1.0:\n",
       "    21      7848       3617.0      0.5     12.7              pi += 1\n",
       "    22                                               # The area calculation ... broken up so we see things in the profile\n",
       "    23         1          2.0      2.0      0.0      pi = 4.0 * float(pi)\n",
       "    24         1          1.0      1.0      0.0      pi = pi / float(n)\n",
       "    25         1          1.0      1.0      0.0      return pi"
      ]
     },
     "metadata": {},
     "output_type": "display_data"
    }
   ],
   "source": [
    "%lprun -f python_pi.pi_python python_pi.pi_python(10000)"
   ]
  },
  {
   "cell_type": "markdown",
   "id": "4a740edc-0f0a-41c3-8573-f19c66a7a560",
   "metadata": {},
   "source": [
    "## How to make it faster?\n",
    "\n",
    "We made it faster by using numpy and doing all the PRNG calls in one go."
   ]
  },
  {
   "cell_type": "code",
   "execution_count": 9,
   "id": "5d8f76bf-05d3-41f5-86e1-afabecdeb905",
   "metadata": {},
   "outputs": [
    {
     "name": "stdout",
     "output_type": "stream",
     "text": [
      "24.7 µs ± 288 ns per loop (mean ± std. dev. of 7 runs, 10,000 loops each)\n"
     ]
    }
   ],
   "source": [
    "%timeit python_pi.pi_numpy(1000)"
   ]
  },
  {
   "cell_type": "code",
   "execution_count": 10,
   "id": "cac07226-bdc9-4ef9-8fb0-4c441fa52aed",
   "metadata": {},
   "outputs": [
    {
     "name": "stdout",
     "output_type": "stream",
     "text": [
      " "
     ]
    },
    {
     "data": {
      "text/plain": [
       "         8 function calls in 0.001 seconds\n",
       "\n",
       "   Ordered by: cumulative time\n",
       "\n",
       "   ncalls  tottime  percall  cumtime  percall filename:lineno(function)\n",
       "        1    0.000    0.000    0.001    0.001 {built-in method builtins.exec}\n",
       "        1    0.000    0.000    0.001    0.001 <string>:1(<module>)\n",
       "        1    0.000    0.000    0.001    0.001 python_pi.py:27(pi_numpy)\n",
       "        2    0.001    0.000    0.001    0.000 {method 'rand' of 'numpy.random.mtrand.RandomState' objects}\n",
       "        1    0.000    0.000    0.000    0.000 {method 'seed' of 'numpy.random.mtrand.RandomState' objects}\n",
       "        1    0.000    0.000    0.000    0.000 {built-in method builtins.len}\n",
       "        1    0.000    0.000    0.000    0.000 {method 'disable' of '_lsprof.Profiler' objects}"
      ]
     },
     "metadata": {},
     "output_type": "display_data"
    }
   ],
   "source": [
    "%%prun -s cumulative\n",
    "python_pi.pi_numpy(10000)"
   ]
  },
  {
   "cell_type": "code",
   "execution_count": 11,
   "id": "47a35fe6-66db-41fb-8d77-61624372ddc2",
   "metadata": {},
   "outputs": [
    {
     "data": {
      "text/plain": [
       "Timer unit: 1e-06 s\n",
       "\n",
       "Total time: 0.001254 s\n",
       "File: /Users/andreww/Code/CompEarthSci/profile_example/python_pi.py\n",
       "Function: pi_numpy at line 27\n",
       "\n",
       "Line #      Hits         Time  Per Hit   % Time  Line Contents\n",
       "==============================================================\n",
       "    27                                           def pi_numpy(num_samps, prn_seed=101):\n",
       "    28                                               \"\"\"\n",
       "    29                                               Monte Carlo method of calculating pi\n",
       "    30                                             \n",
       "    31                                               num_samps is the number of samples in the unit square\n",
       "    32                                               to probe.\n",
       "    33                                             \n",
       "    34                                               \"\"\"\n",
       "    35         1         22.0     22.0      1.8      np.random.seed(prn_seed)\n",
       "    36         1          1.0      1.0      0.1      pi = 0\n",
       "    37         1          0.0      0.0      0.0      n = 0\n",
       "    38         1        406.0    406.0     32.4      x = np.random.rand(num_samps)\n",
       "    39         1        466.0    466.0     37.2      y = np.random.rand(num_samps)\n",
       "    40         1        132.0    132.0     10.5      r = x**2 + y**2\n",
       "    41         1         17.0     17.0      1.4      boolarr = r<=1.0\n",
       "    42         1        206.0    206.0     16.4      pi = len(r[boolarr])\n",
       "    43                                               # The area calculation ... broken up so we see things in the profile\n",
       "    44         1          2.0      2.0      0.2      pi = 4.0 * float(pi)\n",
       "    45         1          1.0      1.0      0.1      pi = pi / float(num_samps)\n",
       "    46         1          1.0      1.0      0.1      return pi"
      ]
     },
     "metadata": {},
     "output_type": "display_data"
    }
   ],
   "source": [
    "%lprun -f python_pi.pi_numpy python_pi.pi_numpy(10000)"
   ]
  }
 ],
 "metadata": {
  "kernelspec": {
   "display_name": "Python 3 (ipykernel)",
   "language": "python",
   "name": "python3"
  },
  "language_info": {
   "codemirror_mode": {
    "name": "ipython",
    "version": 3
   },
   "file_extension": ".py",
   "mimetype": "text/x-python",
   "name": "python",
   "nbconvert_exporter": "python",
   "pygments_lexer": "ipython3",
   "version": "3.9.7"
  }
 },
 "nbformat": 4,
 "nbformat_minor": 5
}
