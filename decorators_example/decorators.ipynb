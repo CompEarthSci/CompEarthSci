{
 "cells": [
  {
   "cell_type": "markdown",
   "metadata": {},
   "source": [
    "# Decorators\n",
    "We've seen several examples of the use of decorators (`@something` before a function definition) to change the behaviour of functions. My aim this week is to look at how these work and how they can be created.\n",
    "\n",
    "There are several good introductions to decorators on the web covering more or less the material below. I've used the following:\n",
    "\n",
    "* [Python Decorators](https://pythonconquerstheuniverse.wordpress.com/2012/04/29/python-decorators/) - a short and clear introduction.\n",
    "* [A guide to Python's function decorators](http://thecodeship.com/patterns/guide-to-python-function-decorators/) - Ayman Farhat's introduction with a little more detail on the more advanced stuff.\n",
    "* [Understanding Python Decorators in 12 Easy Steps!](http://simeonfranklin.com/blog/2012/jul/1/python-decorators-in-12-steps/) - Simeon Franklin's step by step guide\n",
    "* [Python Decorators - A practical application in science](http://tooblippe.github.io/insightstack-blog/2014/05/05/decorators/) - a nice example by Nelis Willers\n",
    "\n",
    "For reference, decorators were introduced in 2003 into Python 2.4. See [PEP 318 -- Decorators for Functions and Methods](https://www.python.org/dev/peps/pep-0318/) for details.\n",
    "\n",
    "### Motivating example\n",
    "The numba documentation gives an example application where the summation of values of a numpy array is speeded up by adding `@jit`. But what does this `@` syntax do? How can we use it?"
   ]
  },
  {
   "cell_type": "code",
   "execution_count": 1,
   "metadata": {
    "collapsed": false,
    "jupyter": {
     "outputs_hidden": false
    }
   },
   "outputs": [
    {
     "name": "stdout",
     "output_type": "stream",
     "text": [
      "3280499959500000.0\n"
     ]
    }
   ],
   "source": [
    "from numpy import arange\n",
    "\n",
    "def sum2d(arr):\n",
    "    M, N = arr.shape\n",
    "    result = 0.0\n",
    "    for i in range(M):\n",
    "        for j in range(N):\n",
    "            result += arr[i,j]\n",
    "    return result\n",
    "\n",
    "a = arange(81000000).reshape(9000,9000)\n",
    "print(sum2d(a))"
   ]
  },
  {
   "cell_type": "code",
   "execution_count": 2,
   "metadata": {
    "collapsed": false,
    "jupyter": {
     "outputs_hidden": false
    }
   },
   "outputs": [
    {
     "name": "stdout",
     "output_type": "stream",
     "text": [
      "3280499959500000.0\n"
     ]
    }
   ],
   "source": [
    "from numba import jit\n",
    "from numpy import arange\n",
    "\n",
    "@jit\n",
    "def sum2d(arr):\n",
    "    M, N = arr.shape\n",
    "    result = 0.0\n",
    "    for i in range(M):\n",
    "        for j in range(N):\n",
    "            result += arr[i,j]\n",
    "    return result\n",
    "\n",
    "a = arange(81000000).reshape(9000,9000)\n",
    "print(sum2d(a))"
   ]
  },
  {
   "cell_type": "markdown",
   "metadata": {},
   "source": [
    "### Recap of functions in python\n",
    "We use `def foo():` to define functions. Functions are \"first class objects\" - we can assign them to variables, pass them into other functions etc. so `foo` is a reference to the function  `foo()` evaluates the function and returns the result."
   ]
  },
  {
   "cell_type": "code",
   "execution_count": 3,
   "metadata": {},
   "outputs": [],
   "source": [
    "def say_hello(name):\n",
    "    \"\"\"Say hello to somebody\"\"\"\n",
    "    mesg = \"Hello, \" + name\n",
    "    return mesg"
   ]
  },
  {
   "cell_type": "code",
   "execution_count": 4,
   "metadata": {
    "collapsed": false,
    "jupyter": {
     "outputs_hidden": false
    }
   },
   "outputs": [
    {
     "name": "stdout",
     "output_type": "stream",
     "text": [
      "<function say_hello at 0x120117b00>\n"
     ]
    }
   ],
   "source": [
    "print(say_hello)"
   ]
  },
  {
   "cell_type": "code",
   "execution_count": 5,
   "metadata": {
    "collapsed": false,
    "jupyter": {
     "outputs_hidden": false
    }
   },
   "outputs": [
    {
     "name": "stdout",
     "output_type": "stream",
     "text": [
      "Hello, Andrew\n"
     ]
    }
   ],
   "source": [
    "print(say_hello('Andrew'))"
   ]
  },
  {
   "cell_type": "code",
   "execution_count": 6,
   "metadata": {},
   "outputs": [],
   "source": [
    "hello_two = say_hello"
   ]
  },
  {
   "cell_type": "code",
   "execution_count": 7,
   "metadata": {
    "collapsed": false,
    "jupyter": {
     "outputs_hidden": false
    }
   },
   "outputs": [
    {
     "name": "stdout",
     "output_type": "stream",
     "text": [
      "Hello, Andrew\n"
     ]
    }
   ],
   "source": [
    "print(hello_two('Andrew'))"
   ]
  },
  {
   "cell_type": "markdown",
   "metadata": {},
   "source": [
    "### Functions as arguments and return values\n",
    "This means we can define a function that takes a function as an argument and returns a function as its result. We can use this to make it look like the behaviour of a function changes.  "
   ]
  },
  {
   "cell_type": "code",
   "execution_count": 8,
   "metadata": {},
   "outputs": [],
   "source": [
    "def make_bold(function):\n",
    "    def bold_function(string):\n",
    "        return '<b>' + function(string) + '</b>'\n",
    "    return bold_function"
   ]
  },
  {
   "cell_type": "code",
   "execution_count": 9,
   "metadata": {},
   "outputs": [],
   "source": [
    "say_hello = make_bold(say_hello)"
   ]
  },
  {
   "cell_type": "code",
   "execution_count": 10,
   "metadata": {
    "collapsed": false,
    "jupyter": {
     "outputs_hidden": false
    }
   },
   "outputs": [
    {
     "name": "stdout",
     "output_type": "stream",
     "text": [
      "<b>Hello, Andrew</b>\n"
     ]
    }
   ],
   "source": [
    "print(say_hello('Andrew'))"
   ]
  },
  {
   "cell_type": "code",
   "execution_count": 11,
   "metadata": {},
   "outputs": [],
   "source": [
    "def make_name_italic(function):\n",
    "    def italic_function(string):\n",
    "        string = '<i>' + string + '</i>'\n",
    "        return(function(string))\n",
    "    return italic_function"
   ]
  },
  {
   "cell_type": "code",
   "execution_count": 12,
   "metadata": {},
   "outputs": [],
   "source": [
    "say_hello = make_name_italic(say_hello)"
   ]
  },
  {
   "cell_type": "code",
   "execution_count": 13,
   "metadata": {
    "collapsed": false,
    "jupyter": {
     "outputs_hidden": false
    }
   },
   "outputs": [
    {
     "name": "stdout",
     "output_type": "stream",
     "text": [
      "<b>Hello, <i>Andrew</i></b>\n"
     ]
    }
   ],
   "source": [
    "print(say_hello('Andrew'))"
   ]
  },
  {
   "cell_type": "markdown",
   "metadata": {},
   "source": [
    "### Decorator lines\n",
    "A shortcut for `new_function = decorator(old_func)` is provided by the `@` syntax."
   ]
  },
  {
   "cell_type": "code",
   "execution_count": 14,
   "metadata": {},
   "outputs": [],
   "source": [
    "@make_name_italic\n",
    "@make_bold\n",
    "def say_goodbye(name):\n",
    "    \"\"\"Say goodbye to somebody\"\"\"\n",
    "    msg = 'Goodbye ' + name\n",
    "    return msg"
   ]
  },
  {
   "cell_type": "code",
   "execution_count": 15,
   "metadata": {
    "collapsed": false,
    "jupyter": {
     "outputs_hidden": false
    }
   },
   "outputs": [
    {
     "name": "stdout",
     "output_type": "stream",
     "text": [
      "<b>Goodbye <i>Andrew</i></b>\n"
     ]
    }
   ],
   "source": [
    "print(say_goodbye('Andrew'))"
   ]
  },
  {
   "cell_type": "markdown",
   "metadata": {},
   "source": [
    "### Decorator arguments\n",
    "We may want to say:\n",
    "\n",
    "    @add_tag(`b`)\n",
    "    def say_goodbye(name):\n",
    "       ...\n",
    "       \n",
    "but how do we do this?"
   ]
  },
  {
   "cell_type": "code",
   "execution_count": 16,
   "metadata": {},
   "outputs": [],
   "source": [
    "def add_tag(tag):\n",
    "    def add_tag_decorator(function):\n",
    "        def tagged_function(name):\n",
    "            msg = '<' + tag + '>' + function(name) + '</' + tag + '>'\n",
    "            return msg\n",
    "        return tagged_function\n",
    "    return add_tag_decorator"
   ]
  },
  {
   "cell_type": "code",
   "execution_count": 17,
   "metadata": {},
   "outputs": [],
   "source": [
    "@add_tag('b')\n",
    "@add_tag('i')\n",
    "def say_hi(name):\n",
    "    \"\"\"Say hi to somebody\"\"\"\n",
    "    msg = 'Hi ' + name\n",
    "    return msg\n"
   ]
  },
  {
   "cell_type": "code",
   "execution_count": 18,
   "metadata": {
    "collapsed": false,
    "jupyter": {
     "outputs_hidden": false
    }
   },
   "outputs": [
    {
     "name": "stdout",
     "output_type": "stream",
     "text": [
      "<b><i>Hi Andrew</i></b>\n"
     ]
    }
   ],
   "source": [
    "print(say_hi('Andrew'))"
   ]
  },
  {
   "cell_type": "markdown",
   "metadata": {},
   "source": [
    "### Keeping the documentation (and other information)\n",
    "Consider the following. Adding the decorators has made debugging more dificult."
   ]
  },
  {
   "cell_type": "code",
   "execution_count": 19,
   "metadata": {
    "collapsed": false,
    "jupyter": {
     "outputs_hidden": false
    }
   },
   "outputs": [
    {
     "name": "stdout",
     "output_type": "stream",
     "text": [
      "None\n"
     ]
    }
   ],
   "source": [
    "print(say_hi.__doc__)"
   ]
  },
  {
   "cell_type": "code",
   "execution_count": 20,
   "metadata": {
    "collapsed": false,
    "jupyter": {
     "outputs_hidden": false
    }
   },
   "outputs": [
    {
     "name": "stdout",
     "output_type": "stream",
     "text": [
      "tagged_function\n"
     ]
    }
   ],
   "source": [
    "print(say_hi.__name__)"
   ]
  },
  {
   "cell_type": "code",
   "execution_count": 21,
   "metadata": {},
   "outputs": [],
   "source": [
    "import functools\n",
    "def add_tag(tag):\n",
    "    def add_tag_decorator(function):\n",
    "        @functools.wraps(function)\n",
    "        def tagged_function(name):\n",
    "            msg = '<' + tag + '>' + function(name) + '</' + tag + '>'\n",
    "            return msg\n",
    "        return tagged_function\n",
    "    return add_tag_decorator"
   ]
  },
  {
   "cell_type": "code",
   "execution_count": 22,
   "metadata": {},
   "outputs": [],
   "source": [
    "@add_tag('b')\n",
    "@add_tag('i')\n",
    "def say_hi(name):\n",
    "    \"\"\"Say hi to somebody\"\"\"\n",
    "    msg = 'Hi ' + name\n",
    "    return msg"
   ]
  },
  {
   "cell_type": "code",
   "execution_count": 23,
   "metadata": {
    "collapsed": false,
    "jupyter": {
     "outputs_hidden": false
    }
   },
   "outputs": [
    {
     "data": {
      "text/plain": [
       "'Say hi to somebody'"
      ]
     },
     "execution_count": 23,
     "metadata": {},
     "output_type": "execute_result"
    }
   ],
   "source": [
    "say_hi.__doc__"
   ]
  },
  {
   "cell_type": "code",
   "execution_count": 24,
   "metadata": {
    "collapsed": false,
    "jupyter": {
     "outputs_hidden": false
    }
   },
   "outputs": [
    {
     "data": {
      "text/plain": [
       "'say_hi'"
      ]
     },
     "execution_count": 24,
     "metadata": {},
     "output_type": "execute_result"
    }
   ],
   "source": [
    "say_hi.__name__"
   ]
  },
  {
   "cell_type": "markdown",
   "metadata": {},
   "source": [
    "### More advanced decorators..."
   ]
  },
  {
   "cell_type": "code",
   "execution_count": 25,
   "metadata": {},
   "outputs": [],
   "source": [
    "def count_calls(func):\n",
    "    @functools.wraps(func)\n",
    "    def wrapped_function(*args, **kwargs):\n",
    "        wrapped_function.calls = wrapped_function.calls + 1\n",
    "        return func(*args, **kwargs)\n",
    "    wrapped_function.calls = 0\n",
    "    return wrapped_function"
   ]
  },
  {
   "cell_type": "code",
   "execution_count": 26,
   "metadata": {
    "collapsed": false,
    "jupyter": {
     "outputs_hidden": false
    }
   },
   "outputs": [],
   "source": [
    "@count_calls\n",
    "def say_hi(name):\n",
    "    \"\"\"Say hi to somebody\"\"\"\n",
    "    msg = 'Hi ' + name\n",
    "    return msg"
   ]
  },
  {
   "cell_type": "code",
   "execution_count": 27,
   "metadata": {
    "collapsed": false,
    "jupyter": {
     "outputs_hidden": false
    }
   },
   "outputs": [
    {
     "data": {
      "text/plain": [
       "'Hi andrew'"
      ]
     },
     "execution_count": 27,
     "metadata": {},
     "output_type": "execute_result"
    }
   ],
   "source": [
    "say_hi('andrew')"
   ]
  },
  {
   "cell_type": "code",
   "execution_count": 28,
   "metadata": {
    "collapsed": false,
    "jupyter": {
     "outputs_hidden": false
    }
   },
   "outputs": [
    {
     "data": {
      "text/plain": [
       "'Hi andrew'"
      ]
     },
     "execution_count": 28,
     "metadata": {},
     "output_type": "execute_result"
    }
   ],
   "source": [
    "say_hi('andrew')"
   ]
  },
  {
   "cell_type": "code",
   "execution_count": 29,
   "metadata": {
    "collapsed": false,
    "jupyter": {
     "outputs_hidden": false
    }
   },
   "outputs": [
    {
     "data": {
      "text/plain": [
       "'Hi andrew'"
      ]
     },
     "execution_count": 29,
     "metadata": {},
     "output_type": "execute_result"
    }
   ],
   "source": [
    "say_hi('andrew')"
   ]
  },
  {
   "cell_type": "code",
   "execution_count": 30,
   "metadata": {
    "collapsed": false,
    "jupyter": {
     "outputs_hidden": false
    }
   },
   "outputs": [
    {
     "data": {
      "text/plain": [
       "3"
      ]
     },
     "execution_count": 30,
     "metadata": {},
     "output_type": "execute_result"
    }
   ],
   "source": [
    "say_hi.calls"
   ]
  }
 ],
 "metadata": {
  "kernelspec": {
   "display_name": "Python 3 (ipykernel)",
   "language": "python",
   "name": "python3"
  },
  "language_info": {
   "codemirror_mode": {
    "name": "ipython",
    "version": 3
   },
   "file_extension": ".py",
   "mimetype": "text/x-python",
   "name": "python",
   "nbconvert_exporter": "python",
   "pygments_lexer": "ipython3",
   "version": "3.12.2"
  }
 },
 "nbformat": 4,
 "nbformat_minor": 4
}
